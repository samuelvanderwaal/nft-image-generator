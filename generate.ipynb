{
 "cells": [
  {
   "cell_type": "code",
   "execution_count": 2,
   "source": [
    "from PIL import Image \n",
    "from IPython.display import display \n",
    "import random\n",
    "import json"
   ],
   "outputs": [],
   "metadata": {}
  },
  {
   "cell_type": "code",
   "execution_count": 29,
   "source": [
    "# Each image is made up a series of traits\n",
    "# The weightings for each trait drive the rarity and add up to 100%\n",
    "\n",
    "background = [\"Blue\", \"Orange\", \"Purple\", \"Red\", \"Yellow\"] \n",
    "background_weights = [30, 40, 15, 5, 10]\n",
    "\n",
    "circle = [\"Blue\", \"Green\", \"Orange\", \"Red\", \"Yellow\"] \n",
    "circle_weights = [30, 40, 15, 5, 10]\n",
    "\n",
    "square = [\"Blue\", \"Green\", \"Orange\", \"Red\", \"Yellow\"] \n",
    "square_weights = [30, 40, 15, 5, 10]\n",
    "\n",
    "glasses = [\"3D\", \"Classic\", None] \n",
    "glasses_weights = [35, 35, 30]\n",
    "\n",
    "# Dictionary variable for each trait. \n",
    "# Eech trait corresponds to its file name\n",
    "\n",
    "background_files = {\n",
    "    \"Blue\": \"blue\",\n",
    "    \"Orange\": \"orange\",\n",
    "    \"Purple\": \"purple\",\n",
    "    \"Red\": \"red\",\n",
    "    \"Yellow\": \"yellow\",\n",
    "}\n",
    "\n",
    "circle_files = {\n",
    "    \"Blue\": \"blue-circle\",\n",
    "    \"Green\": \"green-circle\",\n",
    "    \"Orange\": \"orange-circle\",\n",
    "    \"Red\": \"red-circle\",\n",
    "    \"Yellow\": \"yellow-circle\"   \n",
    "}\n",
    "\n",
    "square_files = {\n",
    "    \"Blue\": \"blue-square\",\n",
    "    \"Green\": \"green-square\",\n",
    "    \"Orange\": \"orange-square\",\n",
    "    \"Red\": \"red-square\",\n",
    "    \"Yellow\": \"yellow-square\"  \n",
    "}\n",
    "\n",
    "glasses_files = {\n",
    "    \"3D\": \"3d-glasses\",\n",
    "    \"Classic\": \"classic-glasses\",\n",
    "}\n"
   ],
   "outputs": [],
   "metadata": {}
  },
  {
   "cell_type": "code",
   "execution_count": 30,
   "source": [
    "## Generate Traits\n",
    "\n",
    "TOTAL_IMAGES = 30 # Number of random unique images we want to generate\n",
    "\n",
    "all_images = [] \n",
    "\n",
    "# A recursive function to generate unique image combinations\n",
    "def create_new_image():\n",
    "    \n",
    "    new_image = {} #\n",
    "\n",
    "    # For each trait category, select a random trait based on the weightings \n",
    "    new_image [\"Background\"] = random.choices(background, background_weights)[0]\n",
    "    new_image [\"Circle\"] = random.choices(circle, circle_weights)[0]\n",
    "    new_image [\"Square\"] = random.choices(square, square_weights)[0]\n",
    "\n",
    "    random_glasses = random.choices(glasses, glasses_weights)[0]\n",
    "    \n",
    "    if random_glasses:\n",
    "        new_image[\"Glasses\"] = random_glasses\n",
    "\n",
    "    if new_image in all_images:\n",
    "        return create_new_image()\n",
    "    else:\n",
    "        return new_image\n",
    "    \n",
    "    \n",
    "# Generate the unique combinations based on trait weightings\n",
    "for i in range(TOTAL_IMAGES): \n",
    "    \n",
    "    new_trait_image = create_new_image()\n",
    "    \n",
    "    all_images.append(new_trait_image)\n",
    "    \n"
   ],
   "outputs": [],
   "metadata": {}
  },
  {
   "cell_type": "code",
   "execution_count": 31,
   "source": [
    "# Returns true if all images are unique\n",
    "def all_images_unique(all_images):\n",
    "    seen = list()\n",
    "    return not any(i in seen or seen.append(i) for i in all_images)\n",
    "\n",
    "print(\"Are all images unique?\", all_images_unique(all_images))"
   ],
   "outputs": [
    {
     "output_type": "stream",
     "name": "stdout",
     "text": [
      "Are all images unique? True\n"
     ]
    }
   ],
   "metadata": {}
  },
  {
   "cell_type": "code",
   "execution_count": 32,
   "source": [
    "# Add token Id to each image\n",
    "i = 0\n",
    "for item in all_images:\n",
    "    item[\"tokenId\"] = i\n",
    "    i = i + 1"
   ],
   "outputs": [],
   "metadata": {}
  },
  {
   "cell_type": "code",
   "execution_count": 33,
   "source": [
    "print(all_images)"
   ],
   "outputs": [
    {
     "output_type": "stream",
     "name": "stdout",
     "text": [
      "[{'Background': 'Yellow', 'Circle': 'Orange', 'Square': 'Blue', 'Glasses': '3D', 'tokenId': 0}, {'Background': 'Red', 'Circle': 'Green', 'Square': 'Yellow', 'tokenId': 1}, {'Background': 'Yellow', 'Circle': 'Green', 'Square': 'Orange', 'Glasses': 'Classic', 'tokenId': 2}, {'Background': 'Purple', 'Circle': 'Green', 'Square': 'Green', 'Glasses': 'Classic', 'tokenId': 3}, {'Background': 'Orange', 'Circle': 'Red', 'Square': 'Green', 'Glasses': '3D', 'tokenId': 4}, {'Background': 'Orange', 'Circle': 'Orange', 'Square': 'Blue', 'Glasses': 'Classic', 'tokenId': 5}, {'Background': 'Purple', 'Circle': 'Green', 'Square': 'Yellow', 'Glasses': '3D', 'tokenId': 6}, {'Background': 'Yellow', 'Circle': 'Blue', 'Square': 'Blue', 'tokenId': 7}, {'Background': 'Orange', 'Circle': 'Green', 'Square': 'Orange', 'Glasses': 'Classic', 'tokenId': 8}, {'Background': 'Blue', 'Circle': 'Yellow', 'Square': 'Blue', 'Glasses': '3D', 'tokenId': 9}, {'Background': 'Yellow', 'Circle': 'Blue', 'Square': 'Orange', 'Glasses': '3D', 'tokenId': 10}, {'Background': 'Orange', 'Circle': 'Blue', 'Square': 'Blue', 'tokenId': 11}, {'Background': 'Purple', 'Circle': 'Yellow', 'Square': 'Blue', 'Glasses': '3D', 'tokenId': 12}, {'Background': 'Orange', 'Circle': 'Green', 'Square': 'Green', 'tokenId': 13}, {'Background': 'Blue', 'Circle': 'Orange', 'Square': 'Red', 'Glasses': 'Classic', 'tokenId': 14}, {'Background': 'Blue', 'Circle': 'Orange', 'Square': 'Green', 'tokenId': 15}, {'Background': 'Orange', 'Circle': 'Green', 'Square': 'Orange', 'tokenId': 16}, {'Background': 'Red', 'Circle': 'Blue', 'Square': 'Red', 'Glasses': 'Classic', 'tokenId': 17}, {'Background': 'Blue', 'Circle': 'Blue', 'Square': 'Green', 'Glasses': 'Classic', 'tokenId': 18}, {'Background': 'Orange', 'Circle': 'Blue', 'Square': 'Green', 'tokenId': 19}, {'Background': 'Orange', 'Circle': 'Orange', 'Square': 'Green', 'Glasses': 'Classic', 'tokenId': 20}, {'Background': 'Orange', 'Circle': 'Yellow', 'Square': 'Blue', 'Glasses': '3D', 'tokenId': 21}, {'Background': 'Blue', 'Circle': 'Yellow', 'Square': 'Red', 'Glasses': 'Classic', 'tokenId': 22}, {'Background': 'Blue', 'Circle': 'Yellow', 'Square': 'Green', 'Glasses': 'Classic', 'tokenId': 23}, {'Background': 'Orange', 'Circle': 'Green', 'Square': 'Blue', 'Glasses': '3D', 'tokenId': 24}, {'Background': 'Yellow', 'Circle': 'Blue', 'Square': 'Yellow', 'tokenId': 25}, {'Background': 'Purple', 'Circle': 'Green', 'Square': 'Red', 'Glasses': '3D', 'tokenId': 26}, {'Background': 'Orange', 'Circle': 'Blue', 'Square': 'Green', 'Glasses': '3D', 'tokenId': 27}, {'Background': 'Blue', 'Circle': 'Red', 'Square': 'Green', 'Glasses': 'Classic', 'tokenId': 28}, {'Background': 'Orange', 'Circle': 'Orange', 'Square': 'Blue', 'Glasses': '3D', 'tokenId': 29}]\n"
     ]
    }
   ],
   "metadata": {
    "tags": []
   }
  },
  {
   "cell_type": "code",
   "execution_count": 34,
   "source": [
    "# Get Trait Counts\n",
    "\n",
    "background_count = {}\n",
    "for item in background:\n",
    "    background_count[item] = 0\n",
    "    \n",
    "circle_count = {}\n",
    "for item in circle:\n",
    "    circle_count[item] = 0\n",
    "\n",
    "square_count = {}\n",
    "for item in square:\n",
    "    square_count[item] = 0\n",
    "\n",
    "glasses_count = {}\n",
    "for item in glasses:\n",
    "    glasses_count[item] = 0\n",
    "\n",
    "for image in all_images:\n",
    "    background_count[image[\"Background\"]] += 1\n",
    "    circle_count[image[\"Circle\"]] += 1\n",
    "    square_count[image[\"Square\"]] += 1\n",
    "    print(image)\n",
    "    if \"Glasses\" in image:\n",
    "        glasses_count[image[\"Glasses\"]] += 1\n",
    "    \n",
    "print(background_count)\n",
    "print(circle_count)\n",
    "print(square_count)\n",
    "print(glasses_count)"
   ],
   "outputs": [
    {
     "output_type": "stream",
     "name": "stdout",
     "text": [
      "{'Background': 'Yellow', 'Circle': 'Orange', 'Square': 'Blue', 'Glasses': '3D', 'tokenId': 0}\n",
      "{'Background': 'Red', 'Circle': 'Green', 'Square': 'Yellow', 'tokenId': 1}\n",
      "{'Background': 'Yellow', 'Circle': 'Green', 'Square': 'Orange', 'Glasses': 'Classic', 'tokenId': 2}\n",
      "{'Background': 'Purple', 'Circle': 'Green', 'Square': 'Green', 'Glasses': 'Classic', 'tokenId': 3}\n",
      "{'Background': 'Orange', 'Circle': 'Red', 'Square': 'Green', 'Glasses': '3D', 'tokenId': 4}\n",
      "{'Background': 'Orange', 'Circle': 'Orange', 'Square': 'Blue', 'Glasses': 'Classic', 'tokenId': 5}\n",
      "{'Background': 'Purple', 'Circle': 'Green', 'Square': 'Yellow', 'Glasses': '3D', 'tokenId': 6}\n",
      "{'Background': 'Yellow', 'Circle': 'Blue', 'Square': 'Blue', 'tokenId': 7}\n",
      "{'Background': 'Orange', 'Circle': 'Green', 'Square': 'Orange', 'Glasses': 'Classic', 'tokenId': 8}\n",
      "{'Background': 'Blue', 'Circle': 'Yellow', 'Square': 'Blue', 'Glasses': '3D', 'tokenId': 9}\n",
      "{'Background': 'Yellow', 'Circle': 'Blue', 'Square': 'Orange', 'Glasses': '3D', 'tokenId': 10}\n",
      "{'Background': 'Orange', 'Circle': 'Blue', 'Square': 'Blue', 'tokenId': 11}\n",
      "{'Background': 'Purple', 'Circle': 'Yellow', 'Square': 'Blue', 'Glasses': '3D', 'tokenId': 12}\n",
      "{'Background': 'Orange', 'Circle': 'Green', 'Square': 'Green', 'tokenId': 13}\n",
      "{'Background': 'Blue', 'Circle': 'Orange', 'Square': 'Red', 'Glasses': 'Classic', 'tokenId': 14}\n",
      "{'Background': 'Blue', 'Circle': 'Orange', 'Square': 'Green', 'tokenId': 15}\n",
      "{'Background': 'Orange', 'Circle': 'Green', 'Square': 'Orange', 'tokenId': 16}\n",
      "{'Background': 'Red', 'Circle': 'Blue', 'Square': 'Red', 'Glasses': 'Classic', 'tokenId': 17}\n",
      "{'Background': 'Blue', 'Circle': 'Blue', 'Square': 'Green', 'Glasses': 'Classic', 'tokenId': 18}\n",
      "{'Background': 'Orange', 'Circle': 'Blue', 'Square': 'Green', 'tokenId': 19}\n",
      "{'Background': 'Orange', 'Circle': 'Orange', 'Square': 'Green', 'Glasses': 'Classic', 'tokenId': 20}\n",
      "{'Background': 'Orange', 'Circle': 'Yellow', 'Square': 'Blue', 'Glasses': '3D', 'tokenId': 21}\n",
      "{'Background': 'Blue', 'Circle': 'Yellow', 'Square': 'Red', 'Glasses': 'Classic', 'tokenId': 22}\n",
      "{'Background': 'Blue', 'Circle': 'Yellow', 'Square': 'Green', 'Glasses': 'Classic', 'tokenId': 23}\n",
      "{'Background': 'Orange', 'Circle': 'Green', 'Square': 'Blue', 'Glasses': '3D', 'tokenId': 24}\n",
      "{'Background': 'Yellow', 'Circle': 'Blue', 'Square': 'Yellow', 'tokenId': 25}\n",
      "{'Background': 'Purple', 'Circle': 'Green', 'Square': 'Red', 'Glasses': '3D', 'tokenId': 26}\n",
      "{'Background': 'Orange', 'Circle': 'Blue', 'Square': 'Green', 'Glasses': '3D', 'tokenId': 27}\n",
      "{'Background': 'Blue', 'Circle': 'Red', 'Square': 'Green', 'Glasses': 'Classic', 'tokenId': 28}\n",
      "{'Background': 'Orange', 'Circle': 'Orange', 'Square': 'Blue', 'Glasses': '3D', 'tokenId': 29}\n",
      "{'Blue': 7, 'Orange': 12, 'Purple': 4, 'Red': 2, 'Yellow': 5}\n",
      "{'Blue': 8, 'Green': 9, 'Orange': 6, 'Red': 2, 'Yellow': 5}\n",
      "{'Blue': 9, 'Green': 10, 'Orange': 4, 'Red': 4, 'Yellow': 3}\n",
      "{'3D': 11, 'Classic': 11, None: 0}\n"
     ]
    }
   ],
   "metadata": {}
  },
  {
   "cell_type": "code",
   "execution_count": 35,
   "source": [
    "#### Generate Metadata for all Traits \n",
    "METADATA_FILE_NAME = './metadata/all-traits.json'; \n",
    "with open(METADATA_FILE_NAME, 'w') as outfile:\n",
    "    json.dump(all_images, outfile, indent=4)"
   ],
   "outputs": [],
   "metadata": {}
  },
  {
   "cell_type": "code",
   "execution_count": 43,
   "source": [
    "  \n",
    "    \n",
    "#### Generate Images    \n",
    "for item in all_images:\n",
    "    has_glasses = \"Glasses\" in item\n",
    "\n",
    "    im1 = Image.open(f'./trait-layers/backgrounds/{background_files[item[\"Background\"]]}.jpg').convert('RGBA')\n",
    "    im2 = Image.open(f'./trait-layers/circles/{circle_files[item[\"Circle\"]]}.png').convert('RGBA')\n",
    "    im3 = Image.open(f'./trait-layers/squares/{square_files[item[\"Square\"]]}.png').convert('RGBA')\n",
    "    if has_glasses:\n",
    "        im4 = Image.open(f'./trait-layers/glasses/{glasses_files[item[\"Glasses\"]]}.png').convert('RGBA')\n",
    "\n",
    "    #Create each composite\n",
    "    com1 = Image.alpha_composite(im1, im2)\n",
    "    com2 = Image.alpha_composite(com1, im3)\n",
    "    if has_glasses:\n",
    "        com3 = Image.alpha_composite(com2, im4)\n",
    "        #Convert to RGB\n",
    "        rgb_im = com3.convert('RGB')\n",
    "        file_name = str(item[\"tokenId\"]) + \".png\"\n",
    "        rgb_im.save(\"./images/\" + file_name)\n",
    "    else:\n",
    "        #Convert to RGB\n",
    "        rgb_im = com2.convert('RGB')\n",
    "        file_name = str(item[\"tokenId\"]) + \".png\"\n",
    "        rgb_im.save(\"./images/\" + file_name)\n",
    "        \n",
    "    \n",
    "    "
   ],
   "outputs": [
    {
     "output_type": "error",
     "ename": "ValueError",
     "evalue": "images do not match",
     "traceback": [
      "\u001b[0;31m---------------------------------------------------------------------------\u001b[0m",
      "\u001b[0;31mValueError\u001b[0m                                Traceback (most recent call last)",
      "\u001b[0;32m/tmp/ipykernel_619209/2050341715.py\u001b[0m in \u001b[0;36m<module>\u001b[0;34m\u001b[0m\n\u001b[1;32m     13\u001b[0m     \u001b[0mcom2\u001b[0m \u001b[0;34m=\u001b[0m \u001b[0mImage\u001b[0m\u001b[0;34m.\u001b[0m\u001b[0malpha_composite\u001b[0m\u001b[0;34m(\u001b[0m\u001b[0mcom1\u001b[0m\u001b[0;34m,\u001b[0m \u001b[0mim3\u001b[0m\u001b[0;34m)\u001b[0m\u001b[0;34m\u001b[0m\u001b[0;34m\u001b[0m\u001b[0m\n\u001b[1;32m     14\u001b[0m     \u001b[0;32mif\u001b[0m \u001b[0mhas_glasses\u001b[0m\u001b[0;34m:\u001b[0m\u001b[0;34m\u001b[0m\u001b[0;34m\u001b[0m\u001b[0m\n\u001b[0;32m---> 15\u001b[0;31m         \u001b[0mcom3\u001b[0m \u001b[0;34m=\u001b[0m \u001b[0mImage\u001b[0m\u001b[0;34m.\u001b[0m\u001b[0malpha_composite\u001b[0m\u001b[0;34m(\u001b[0m\u001b[0mcom2\u001b[0m\u001b[0;34m,\u001b[0m \u001b[0mim4\u001b[0m\u001b[0;34m)\u001b[0m\u001b[0;34m\u001b[0m\u001b[0;34m\u001b[0m\u001b[0m\n\u001b[0m\u001b[1;32m     16\u001b[0m \u001b[0;34m\u001b[0m\u001b[0m\n\u001b[1;32m     17\u001b[0m     \u001b[0;31m#Convert to RGB\u001b[0m\u001b[0;34m\u001b[0m\u001b[0;34m\u001b[0m\u001b[0;34m\u001b[0m\u001b[0m\n",
      "\u001b[0;32m/usr/lib/python3/dist-packages/PIL/Image.py\u001b[0m in \u001b[0;36malpha_composite\u001b[0;34m(im1, im2)\u001b[0m\n\u001b[1;32m   2977\u001b[0m     \u001b[0mim1\u001b[0m\u001b[0;34m.\u001b[0m\u001b[0mload\u001b[0m\u001b[0;34m(\u001b[0m\u001b[0;34m)\u001b[0m\u001b[0;34m\u001b[0m\u001b[0;34m\u001b[0m\u001b[0m\n\u001b[1;32m   2978\u001b[0m     \u001b[0mim2\u001b[0m\u001b[0;34m.\u001b[0m\u001b[0mload\u001b[0m\u001b[0;34m(\u001b[0m\u001b[0;34m)\u001b[0m\u001b[0;34m\u001b[0m\u001b[0;34m\u001b[0m\u001b[0m\n\u001b[0;32m-> 2979\u001b[0;31m     \u001b[0;32mreturn\u001b[0m \u001b[0mim1\u001b[0m\u001b[0;34m.\u001b[0m\u001b[0m_new\u001b[0m\u001b[0;34m(\u001b[0m\u001b[0mcore\u001b[0m\u001b[0;34m.\u001b[0m\u001b[0malpha_composite\u001b[0m\u001b[0;34m(\u001b[0m\u001b[0mim1\u001b[0m\u001b[0;34m.\u001b[0m\u001b[0mim\u001b[0m\u001b[0;34m,\u001b[0m \u001b[0mim2\u001b[0m\u001b[0;34m.\u001b[0m\u001b[0mim\u001b[0m\u001b[0;34m)\u001b[0m\u001b[0;34m)\u001b[0m\u001b[0;34m\u001b[0m\u001b[0;34m\u001b[0m\u001b[0m\n\u001b[0m\u001b[1;32m   2980\u001b[0m \u001b[0;34m\u001b[0m\u001b[0m\n\u001b[1;32m   2981\u001b[0m \u001b[0;34m\u001b[0m\u001b[0m\n",
      "\u001b[0;31mValueError\u001b[0m: images do not match"
     ]
    }
   ],
   "metadata": {}
  },
  {
   "cell_type": "code",
   "execution_count": 39,
   "source": [
    "#### Generate Metadata for each Image    \n",
    "\n",
    "f = open('./metadata/all-traits.json',) \n",
    "data = json.load(f)\n",
    "\n",
    "\n",
    "IMAGES_BASE_URI = \"ADD_IMAGES_BASE_URI_HERE\"\n",
    "PROJECT_NAME = \"ADD_PROJECT_NAME_HERE\"\n",
    "\n",
    "def getAttribute(key, value):\n",
    "    return {\n",
    "        \"trait_type\": key,\n",
    "        \"value\": value\n",
    "    }\n",
    "for i in data:\n",
    "    token_id = i['tokenId']\n",
    "    token = {\n",
    "        \"image\": IMAGES_BASE_URI + str(token_id) + '.png',\n",
    "        \"tokenId\": token_id,\n",
    "        \"name\": PROJECT_NAME + ' ' + str(token_id),\n",
    "        \"attributes\": []\n",
    "    }\n",
    "    token[\"attributes\"].append(getAttribute(\"Background\", i[\"Background\"]))\n",
    "    token[\"attributes\"].append(getAttribute(\"Circle\", i[\"Circle\"]))\n",
    "    token[\"attributes\"].append(getAttribute(\"Square\", i[\"Square\"]))\n",
    "    if \"Glasses\" in i:\n",
    "        token[\"attributes\"].append(getAttribute(\"Glasses\", i[\"Glasses\"]))\n",
    "\n",
    "\n",
    "    with open('./metadata/' + str(token_id), 'w') as outfile:\n",
    "        json.dump(token, outfile, indent=4)\n",
    "f.close()"
   ],
   "outputs": [],
   "metadata": {}
  },
  {
   "cell_type": "code",
   "execution_count": null,
   "source": [],
   "outputs": [],
   "metadata": {}
  }
 ],
 "metadata": {
  "kernelspec": {
   "name": "python3",
   "display_name": "Python 3.9.5 64-bit"
  },
  "language_info": {
   "codemirror_mode": {
    "name": "ipython",
    "version": 3
   },
   "file_extension": ".py",
   "mimetype": "text/x-python",
   "name": "python",
   "nbconvert_exporter": "python",
   "pygments_lexer": "ipython3",
   "version": "3.9.5"
  },
  "interpreter": {
   "hash": "31f2aee4e71d21fbe5cf8b01ff0e069b9275f58929596ceb00d14d90e3e16cd6"
  }
 },
 "nbformat": 4,
 "nbformat_minor": 4
}